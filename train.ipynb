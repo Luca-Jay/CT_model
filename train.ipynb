{
 "cells": [
  {
   "cell_type": "code",
   "execution_count": null,
   "id": "import-libraries",
   "metadata": {},
   "outputs": [],
   "source": [
    "import os\n",
    "import pytorch_lightning as pl\n",
    "from pytorch_lightning.loggers import TensorBoardLogger\n",
    "from datasets.Larynx_DataModule import Larynx_DataModule\n",
    "from pytorch_lightning.callbacks.model_checkpoint import ModelCheckpoint\n",
    "from lightning_modules.ae_msssim_acai import AE_MSSSIM_ACAI\n",
    "from lightning_modules.igd import IGD\n",
    "from lightning_modules.vae_msssim_acai import VAE_MSSSIM_ACAI\n",
    "from lightning_modules.ae import AE\n",
    "from lightning_modules.vae import VAE\n",
    "from lightning_modules.ae_msssim import AE_MSSSIM\n",
    "from lightning_modules.vae_msssim import VAE_MSSSIM\n"
   ]
  },
  {
   "cell_type": "code",
   "execution_count": null,
   "id": "set-parameters",
   "metadata": {},
   "outputs": [],
   "source": [
    "# Set parameters\n",
    "batch_size = 4\n",
    "epochs = 10\n",
    "architecture = 'AE'\n",
    "latent_size = 256\n",
    "spatial_size = 128\n",
    "gpu = 1\n",
    "dataset_dir = 'DATA'\n",
    "output_dir = 'OUTPUT'\n"
   ]
  },
  {
   "cell_type": "code",
   "execution_count": null,
   "id": "initialize-data",
   "metadata": {},
   "outputs": [],
   "source": [
    "# Initialize data module\n",
    "dataset_root = dataset_dir\n",
    "datamodule = Larynx_DataModule(data_dir=dataset_root, batch_size=batch_size, spatial_size=spatial_size)\n"
   ]
  },
  {
   "cell_type": "code",
   "execution_count": null,
   "id": "initialize-model",
   "metadata": {},
   "outputs": [],
   "source": [
    "# Initialize model\n",
    "rho = 0.15\n",
    "lambda_fool = 0.1\n",
    "gamma = 0.2\n",
    "if architecture == 'AE':\n",
    "    model = AE(latent_size)\n",
    "elif architecture == 'VAE':\n",
    "    model = VAE(latent_size)\n",
    "elif architecture == 'AE_MSSSIM':\n",
    "    model = AE_MSSSIM(latent_size, rho)\n",
    "elif architecture == 'VAE_MSSSIM':\n",
    "    model = VAE_MSSSIM(latent_size, rho)\n",
    "elif architecture == 'AE_MSSSIM_ACAI':\n",
    "    model = AE_MSSSIM_ACAI(latent_size, rho, lambda_fool, gamma)\n",
    "elif architecture == 'VAE_MSSSIM_ACAI':\n",
    "    model = VAE_MSSSIM_ACAI(latent_size, rho, lambda_fool, gamma)\n",
    "elif architecture == 'IGD':\n",
    "    model = IGD(latent_size, rho, lambda_fool, gamma)\n"
   ]
  },
  {
   "cell_type": "code",
   "execution_count": null,
   "id": "setup-logger",
   "metadata": {},
   "outputs": [],
   "source": [
    "# Setup logger\n",
    "experiment_name = architecture\n",
    "root_log_dir = os.path.join(output_dir, experiment_name)\n",
    "train_logger = TensorBoardLogger(save_dir=root_log_dir, name='pretraining')\n"
   ]
  },
  {
   "cell_type": "code",
   "execution_count": null,
   "id": "setup-checkpoint",
   "metadata": {},
   "outputs": [],
   "source": [
    "# Setup checkpoint callback\n",
    "checkpoint_dir = os.path.join(root_log_dir, 'checkpoints')\n",
    "checkpoint_callback = ModelCheckpoint(\n",
    "    dirpath=checkpoint_dir,\n",
    "    filename='{epoch:02d}',\n",
    "    save_last=True,\n",
    "    every_n_epochs=10,\n",
    ")\n"
   ]
  },
  {
   "cell_type": "code",
   "execution_count": null,
   "id": "initialize-trainer",
   "metadata": {},
   "outputs": [],
   "source": [
    "# Initialize trainer\n",
    "trainer = pl.Trainer(\n",
    "    accelerator='cpu',\n",
    "    devices=gpu,\n",
    "    logger=train_logger,\n",
    "    fast_dev_run=False,\n",
    "    num_sanity_val_steps=0,\n",
    "    log_every_n_steps=20,\n",
    "    callbacks=[checkpoint_callback],\n",
    "    max_epochs=epochs\n",
    ")\n"
   ]
  },
  {
   "cell_type": "code",
   "execution_count": null,
   "id": "train-model",
   "metadata": {},
   "outputs": [],
   "source": [
    "# Train the model\n",
    "trainer.fit(model, datamodule)\n"
   ]
  }
 ],
 "metadata": {
  "kernelspec": {
   "display_name": "Python 3",
   "language": "python",
   "name": "python3"
  },
  "language_info": {
   "codemirror_mode": {
    "name": "ipython",
    "version": 3
   },
   "file_extension": ".py",
   "mimetype": "text/x-python",
   "name": "python",
   "nbconvert_exporter": "python",
   "pygments_lexer": "ipython3",
   "version": "3.8.5"
  }
 },
 "nbformat": 4,
 "nbformat_minor": 5
}