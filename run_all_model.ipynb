{
 "cells": [
  {
   "cell_type": "code",
   "execution_count": null,
   "id": "7e0d91c8",
   "metadata": {},
   "outputs": [],
   "source": [
    "!pip install matplotlib monai nibabel numpy pandas pytorch_lightning pytorch_msssim scikit_image scikit_learn scipy seaborn torch torchvision"
   ]
  },
  {
   "cell_type": "code",
   "execution_count": null,
   "id": "import-libraries",
   "metadata": {},
   "outputs": [],
   "source": [
    "# Import necessary libraries\n",
    "import os\n",
    "from train_lightning import train_model\n",
    "from test_lightning import test_model\n",
    "import torch\n",
    "from monai.transforms import RandRotateD, ScaleIntensityD, RandZoomD, RandFlipD\n",
    "import numpy as np"
   ]
  },
  {
   "cell_type": "code",
   "execution_count": null,
   "id": "define-functions",
   "metadata": {},
   "outputs": [],
   "source": [
    "# Define helper functions\n",
    "def get_latest_checkpoint(checkpoint_dir):\n",
    "    checkpoints = [f for f in os.listdir(checkpoint_dir) if f.startswith('last-v') and f.endswith('.ckpt')]\n",
    "    if not checkpoints:\n",
    "        # Check for a checkpoint named 'last.ckpt'\n",
    "        if 'last.ckpt' in os.listdir(checkpoint_dir):\n",
    "            return os.path.join(checkpoint_dir, 'last.ckpt')\n",
    "        raise FileNotFoundError(\"No checkpoint files found in the directory.\")\n",
    "    latest_checkpoint = max(checkpoints, key=lambda x: int(x.split('v')[-1].split('.')[0]))\n",
    "    return os.path.join(checkpoint_dir, latest_checkpoint)\n",
    "\n",
    "def num_gpus():\n",
    "    \"\"\"Get the number of available GPUs.\"\"\"\n",
    "    return torch.cuda.device_count()"
   ]
  },
  {
   "cell_type": "code",
   "execution_count": null,
   "id": "set-parameters",
   "metadata": {},
   "outputs": [],
   "source": [
    "# Set parameters\n",
    "architectures = ['AE']\n",
    "batch_size = 2\n",
    "epochs = 100\n",
    "latent_size = 512\n",
    "spatial_size = 128\n",
    "accelerator = 'gpu' if num_gpus() > 1 else 'cpu'\n",
    "devices = num_gpus() if num_gpus() > 1 else 1\n",
    "dataset_dir = 'DATA'\n",
    "output_dir = 'OUTPUT'\n",
    "mean_map = False\n",
    "\n",
    "augmentations = [\n",
    "    ScaleIntensityD(keys=[\"image\"]),\n",
    "    RandFlipD(keys=[\"image\"], spatial_axis=0),\n",
    "    RandRotateD(keys=[\"image\"], range_x=np.pi / 12, prob=0.5, keep_size=True),\n",
    "    RandFlipD(keys=[\"image\"], spatial_axis=0, prob=0.5),\n",
    "    RandZoomD(keys=[\"image\"], min_zoom=0.9, max_zoom=1.1, prob=0.5)\n",
    "]"
   ]
  },
  {
   "cell_type": "code",
   "execution_count": null,
   "id": "train-and-test-models",
   "metadata": {},
   "outputs": [],
   "source": [
    "# Train and test models\n",
    "for architecture in architectures:\n",
    "    print(f\"Training {architecture} model...\")\n",
    "    train_model(batch_size, epochs, architecture, latent_size, spatial_size, accelerator, devices, dataset_dir, output_dir, augmentations)\n",
    "    \n",
    "    checkpoint_dir = os.path.join(output_dir, architecture, 'checkpoints')\n",
    "    checkpoint = get_latest_checkpoint(checkpoint_dir)\n",
    "    \n",
    "    print(f\"Testing {architecture} model with checkpoint {checkpoint}...\")\n",
    "    test_model(batch_size, checkpoint, architecture, mean_map, dataset_dir, accelerator, devices, latent_size)"
   ]
  }
 ],
 "metadata": {
  "kernelspec": {
   "display_name": "Python 3",
   "language": "python",
   "name": "python3"
  },
  "language_info": {
   "codemirror_mode": {
    "name": "ipython",
    "version": 3
   },
   "file_extension": ".py",
   "mimetype": "text/x-python",
   "name": "python",
   "nbconvert_exporter": "python",
   "pygments_lexer": "ipython3",
   "version": "3.8.5"
  }
 },
 "nbformat": 4,
 "nbformat_minor": 5
}
